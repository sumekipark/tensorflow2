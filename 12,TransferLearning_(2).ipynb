{
  "nbformat": 4,
  "nbformat_minor": 0,
  "metadata": {
    "colab": {
      "provenance": [],
      "include_colab_link": true
    },
    "kernelspec": {
      "name": "python3",
      "display_name": "Python 3"
    },
    "language_info": {
      "name": "python"
    },
    "accelerator": "GPU",
    "gpuClass": "standard"
  },
  "cells": [
    {
      "cell_type": "markdown",
      "metadata": {
        "id": "view-in-github",
        "colab_type": "text"
      },
      "source": [
        "<a href=\"https://colab.research.google.com/github/sumekipark/tensorflow2/blob/main/12%2CTransferLearning_(2).ipynb\" target=\"_parent\"><img src=\"https://colab.research.google.com/assets/colab-badge.svg\" alt=\"Open In Colab\"/></a>"
      ]
    },
    {
      "cell_type": "code",
      "execution_count": null,
      "metadata": {
        "id": "tozaAI1aIIan"
      },
      "outputs": [],
      "source": [
        "import tensorflow as tf\n",
        "from keras.models import Sequential, Model\n",
        "from keras.layers import Dense, Dropout, Input\n",
        "from keras.layers import Flatten, Conv2D, MaxPool2D\n",
        "from keras.applications import MobileNet, Xception, ResNet50, InceptionV3\n",
        "from keras.preprocessing.image import ImageDataGenerator"
      ]
    },
    {
      "cell_type": "code",
      "source": [
        "# Google Drive 마운트\n",
        "from google.colab import drive\n",
        "drive.mount('/content/gdrive/')"
      ],
      "metadata": {
        "colab": {
          "base_uri": "https://localhost:8080/"
        },
        "id": "eZeZQ9n_KNrW",
        "outputId": "fcb2f0d4-412b-47aa-ae7e-3a1b41089f69"
      },
      "execution_count": null,
      "outputs": [
        {
          "output_type": "stream",
          "name": "stdout",
          "text": [
            "Mounted at /content/gdrive/\n"
          ]
        }
      ]
    },
    {
      "cell_type": "code",
      "source": [
        "# dog_image.zip 파일을 Colab Notebooks 안에 dataset 폴더 만들고, 만들어지  dataset 폴더에서 우클릭한 후 업로드한다.\n",
        "# /content/gdrive/MyDrive/Colab Notebooks/dataset/dog_image.zip 파일업로드된 전체 경로"
      ],
      "metadata": {
        "id": "HnAL00UlKyql"
      },
      "execution_count": null,
      "outputs": []
    },
    {
      "cell_type": "code",
      "source": [
        "# 파일 다운로드\n",
        "import shutil\n",
        "shutil.copy('/content/gdrive/MyDrive/Colab Notebooks/dataset/dog_image.zip','/content/')"
      ],
      "metadata": {
        "colab": {
          "base_uri": "https://localhost:8080/",
          "height": 35
        },
        "id": "5jSyBlWxK3zF",
        "outputId": "64db6772-f62d-4f3c-cbef-4b6b61d0fd31"
      },
      "execution_count": null,
      "outputs": [
        {
          "output_type": "execute_result",
          "data": {
            "text/plain": [
              "'/content/dog_image.zip'"
            ],
            "application/vnd.google.colaboratory.intrinsic+json": {
              "type": "string"
            }
          },
          "metadata": {},
          "execution_count": 4
        }
      ]
    },
    {
      "cell_type": "code",
      "source": [
        "# root directory 설정\n",
        "root_dir ='/content'\n",
        "\n",
        "import os\n",
        "import shutil\n",
        "\n",
        "if os.path.exists( os.path.join(root_dir, 'dog_image')):\n",
        "  shutil.rmtree( os.path.join(root_dir, 'dog_image'))"
      ],
      "metadata": {
        "id": "u1NOTwBUNZs5"
      },
      "execution_count": null,
      "outputs": []
    },
    {
      "cell_type": "code",
      "source": [
        "import zipfile\n",
        "with zipfile.ZipFile( os.path.join(root_dir, 'dog_image.zip'),'r') as target_file:\n",
        "  target_file.extractall( os.path.join(root_dir, 'dog_image'))"
      ],
      "metadata": {
        "id": "7VCWEx7xN7R2"
      },
      "execution_count": null,
      "outputs": []
    },
    {
      "cell_type": "code",
      "source": [
        "import os\n",
        "import shutil\n",
        "\n",
        "if not os.path.exists( os.path.join(root_dir, 'dog_image/test')):\n",
        "  os.mkdir(os.path.join(root_dir, 'dog_image/test'))\n",
        "\n",
        "if not os.path.exists( os.path.join(root_dir, 'dog_image/test_image_files')):\n",
        "  os.mkdir(os.path.join(root_dir, 'dog_image/test_image_files'))"
      ],
      "metadata": {
        "id": "2aP0ykSyOaWF"
      },
      "execution_count": null,
      "outputs": []
    },
    {
      "cell_type": "code",
      "source": [
        "# 데이터 전체 개수 확인\n",
        "import os\n",
        "import glob\n",
        "\n",
        "label_name_list = os.listdir( os.path.join(root_dir, 'dog_image/train/'))\n",
        "\n",
        "print('total label nums=', len(label_name_list))\n",
        "print('=================================')\n",
        "print(label_name_list)"
      ],
      "metadata": {
        "colab": {
          "base_uri": "https://localhost:8080/"
        },
        "id": "bkPporz-PuTP",
        "outputId": "3b00cee9-e50c-4623-a782-86b38373015b"
      },
      "execution_count": null,
      "outputs": [
        {
          "output_type": "stream",
          "name": "stdout",
          "text": [
            "total label nums= 4\n",
            "=================================\n",
            "['yorkshire_terrier', 'jindo_dog', 'chihuahua', 'shepherd']\n"
          ]
        }
      ]
    },
    {
      "cell_type": "code",
      "source": [
        "# train -> test 디렉토리로  ratio  만큼 move\n",
        "import os\n",
        "import glob\n",
        "import shutil\n",
        "\n",
        "ratio = 0.1 # train : test = 90:10\n",
        "\n",
        "src_root_dir = os.path.join(root_dir, 'dog_image/train/')\n",
        "dst_root_dir = os.path.join(root_dir, 'dog_image/test/')\n",
        "\n",
        "label_name_list = os.listdir(src_root_dir)\n",
        "\n",
        "for label_name in label_name_list:# test 디렉토리에 label 디렉토리 생성\n",
        "  dst_label_name_dir = dst_root_dir + label_name\n",
        "  if not os.path.exists(dst_label_name_dir):\n",
        "    os.mkdir(dst_label_name_dir)\n",
        "\n",
        "#파일 move : src dir(train directory) => dst dir(test directory)\n",
        "for label_name in label_name_list:\n",
        "  train_image_file_list = glob.glob(src_root_dir + label_name + '/*')\n",
        "  split_num = int(ratio*len(train_image_file_list))\n",
        "  test_image_file_list = train_image_file_list[0:split_num]\n",
        "\n",
        "  for image_file in test_image_file_list:\n",
        "    shutil.move(image_file, dst_root_dir+label_name) # move"
      ],
      "metadata": {
        "id": "6YxJlBe8Qp4P"
      },
      "execution_count": null,
      "outputs": []
    },
    {
      "cell_type": "code",
      "source": [
        "# train : test 데이터 비율 확인\n",
        "src_root_dir = os.path.join(root_dir, 'dog_image/train/')\n",
        "dst_root_dir = os.path.join(root_dir, 'dog_image/test/')\n",
        "\n",
        "train_label_name_list = os.listdir(src_root_dir)\n",
        "test_label_name_list = os.listdir(src_root_dir)\n",
        "\n",
        "train_label_name_list.sort()\n",
        "test_label_name_list.sort()\n",
        "\n",
        "if train_label_name_list != test_label_name_list:\n",
        "  print('fatal error !!!!')\n",
        "else:\n",
        "  print(len(train_label_name_list), len(test_label_name_list))\n",
        "\n",
        "# 데이터 개수 확인\n",
        "for label_name in train_label_name_list:\n",
        "  train_data_nums = len(os.listdir(src_root_dir+label_name))\n",
        "  test_data_nums = len(os.listdir(dst_root_dir+label_name))\n",
        "\n",
        "  print('train->', label_name, train_data_nums,', test=>', label_name, test_data_nums)\n",
        "  print('======================')"
      ],
      "metadata": {
        "colab": {
          "base_uri": "https://localhost:8080/"
        },
        "id": "K53OE_06SfAw",
        "outputId": "430e63ce-02dd-4d11-9046-5aba245c3107"
      },
      "execution_count": null,
      "outputs": [
        {
          "output_type": "stream",
          "name": "stdout",
          "text": [
            "4 4\n",
            "train-> chihuahua 329 , test=> chihuahua 36\n",
            "======================\n",
            "train-> jindo_dog 324 , test=> jindo_dog 36\n",
            "======================\n",
            "train-> shepherd 339 , test=> shepherd 37\n",
            "======================\n",
            "train-> yorkshire_terrier 342 , test=> yorkshire_terrier 37\n",
            "======================\n"
          ]
        }
      ]
    },
    {
      "cell_type": "code",
      "source": [
        "# test -> test_image_files 디렉토리로 copy\n",
        "import os\n",
        "import glob\n",
        "import shutil\n",
        "\n",
        "src_root_dir = os.path.join(root_dir, 'dog_image/test/')\n",
        "dst_root_dir = os.path.join(root_dir, 'dog_image/test_image_files')\n",
        "\n",
        "label_name_list = os.listdir(src_root_dir)\n",
        "\n",
        "for label_name in label_name_list: # 파일 카피 : src dir => dst dir\n",
        "  image_file_list = glob.glob(src_root_dir+label_name+'/*')\n",
        "  print('totla [%s] image file nums=> [%s]' % (label_name, len(image_file_list)))\n",
        "\n",
        "  copy_nums = 0\n",
        "\n",
        "  for image_file in image_file_list:\n",
        "    shutil.copy(image_file, dst_root_dir) # copy\n",
        "    copy_nums = copy_nums + 1\n",
        "  print('total copy nums =>', copy_nums)"
      ],
      "metadata": {
        "colab": {
          "base_uri": "https://localhost:8080/"
        },
        "id": "mPOzjnQLWlG5",
        "outputId": "8d3ae11b-330a-4e00-ff28-d9cd5f7a9346"
      },
      "execution_count": null,
      "outputs": [
        {
          "output_type": "stream",
          "name": "stdout",
          "text": [
            "totla [yorkshire_terrier] image file nums=> [37]\n",
            "total copy nums => 37\n",
            "totla [jindo_dog] image file nums=> [36]\n",
            "total copy nums => 36\n",
            "totla [chihuahua] image file nums=> [36]\n",
            "total copy nums => 36\n",
            "totla [shepherd] image file nums=> [37]\n",
            "total copy nums => 37\n"
          ]
        }
      ]
    },
    {
      "cell_type": "code",
      "source": [
        "# ImageDataGenerator 설정\n",
        "from tensorflow.keras.preprocessing.image import ImageDataGenerator\n",
        "\n",
        "\n",
        "IMG_WIDTH = 224\n",
        "IMG_HEIGHT = 224\n",
        "\n",
        "train_dir = os.path.join(root_dir, 'dog_image/train/')\n",
        "validation_dir = os.path.join(root_dir, 'dog_image/train/')\n",
        "test_dir = os.path.join(root_dir, 'dog_image/test/')"
      ],
      "metadata": {
        "id": "fchraXluZyQq"
      },
      "execution_count": null,
      "outputs": []
    },
    {
      "cell_type": "code",
      "source": [
        "train_datagen = ImageDataGenerator(rescale= 1./ 255, \n",
        "                                   rotation_range=20, \n",
        "                                   width_shift_range=0.2)\n",
        "                                  #  class_mode='sparse', \n",
        "                                  #  subset='training',\n",
        "                                  #  target_size=(IMG_WIDTH, IMG_HEIGHT))\n",
        "validation_datagen = ImageDataGenerator(rescale=1./255, validation_split=0.15)\n",
        "\n",
        "train_generator = train_datagen.flow_from_directory(train_dir, batch_size=16, color_mode='rgb',\n",
        "                                                    class_mode='sparse', subset='training',\n",
        "                                                    target_size=(IMG_WIDTH, IMG_HEIGHT))\n",
        "\n",
        "validation_generator = validation_datagen.flow_from_directory(validation_dir, batch_size=16, color_mode='rgb',\n",
        "                                                    class_mode='sparse', subset='validation',\n",
        "                                                    target_size=(IMG_WIDTH, IMG_HEIGHT))\n",
        "\n",
        "print(train_generator.class_indices)"
      ],
      "metadata": {
        "colab": {
          "base_uri": "https://localhost:8080/"
        },
        "id": "KkF7gwudroks",
        "outputId": "d8d076bc-60c1-4834-feae-5b00dc65c2c9"
      },
      "execution_count": null,
      "outputs": [
        {
          "output_type": "stream",
          "name": "stdout",
          "text": [
            "Found 1334 images belonging to 4 classes.\n",
            "Found 198 images belonging to 4 classes.\n",
            "{'chihuahua': 0, 'jindo_dog': 1, 'shepherd': 2, 'yorkshire_terrier': 3}\n"
          ]
        }
      ]
    },
    {
      "cell_type": "code",
      "source": [
        "#Transer Learning base 모델 구축\n",
        "from keras.applications.mobilenet import MobileNet\n",
        "\n",
        "# weights=사전학습 모델,  include_top=False: 사전학습기의 특징추출기만 가져와 사용, True=특징추출기+분류기 둘다 가져오겠다.\n",
        "# input_shape=새롭게 학습시킬 tensor의 크기 (width,height,channel)\n",
        "base_model = MobileNet(weights='imagenet', include_top=False, input_shape=(IMG_WIDTH, IMG_HEIGHT, 3))"
      ],
      "metadata": {
        "colab": {
          "base_uri": "https://localhost:8080/"
        },
        "id": "2HmUFTe7cNlL",
        "outputId": "0f3fa2dd-c72a-4dcd-ace5-e2838fbe8d58"
      },
      "execution_count": null,
      "outputs": [
        {
          "output_type": "stream",
          "name": "stdout",
          "text": [
            "Downloading data from https://storage.googleapis.com/tensorflow/keras-applications/mobilenet/mobilenet_1_0_224_tf_no_top.h5\n",
            "17225924/17225924 [==============================] - 2s 0us/step\n"
          ]
        }
      ]
    },
    {
      "cell_type": "code",
      "source": [
        "from keras.models import Sequential\n",
        "from keras.layers import Flatten, Dense, Dropout\n",
        "\n",
        "model = Sequential()\n",
        "model.add(base_model)\n",
        "model.add(Flatten())\n",
        "model.add(Dense(32,activation='relu'))\n",
        "model.add(Dropout(0.25))\n",
        "model.add(Dense(4, activation='softmax'))"
      ],
      "metadata": {
        "id": "3cSmRqd_ci41"
      },
      "execution_count": null,
      "outputs": []
    },
    {
      "cell_type": "code",
      "source": [
        "import tensorflow as tf\n",
        "\n",
        "model.compile(loss='sparse_categorical_crossentropy',\n",
        "              optimizer=tf.keras.optimizers.Adam(2e-5),\n",
        "              metrics=['accuracy'])\n",
        "model.summary()"
      ],
      "metadata": {
        "colab": {
          "base_uri": "https://localhost:8080/"
        },
        "id": "Nk1-rMxic5ll",
        "outputId": "b36050ff-108c-429c-ecda-9059d1a81145"
      },
      "execution_count": null,
      "outputs": [
        {
          "output_type": "stream",
          "name": "stdout",
          "text": [
            "Model: \"sequential\"\n",
            "_________________________________________________________________\n",
            " Layer (type)                Output Shape              Param #   \n",
            "=================================================================\n",
            " mobilenet_1.00_224 (Functio  (None, 7, 7, 1024)       3228864   \n",
            " nal)                                                            \n",
            "                                                                 \n",
            " flatten (Flatten)           (None, 50176)             0         \n",
            "                                                                 \n",
            " dense (Dense)               (None, 32)                1605664   \n",
            "                                                                 \n",
            " dropout (Dropout)           (None, 32)                0         \n",
            "                                                                 \n",
            " dense_1 (Dense)             (None, 4)                 132       \n",
            "                                                                 \n",
            "=================================================================\n",
            "Total params: 4,834,660\n",
            "Trainable params: 4,812,772\n",
            "Non-trainable params: 21,888\n",
            "_________________________________________________________________\n"
          ]
        }
      ]
    },
    {
      "cell_type": "code",
      "source": [
        "from keras.callbacks import EarlyStopping, ModelCheckpoint\n",
        "\n",
        "#모델이 저장될 파일 경로 및 파일명 설정\n",
        "# epoch수를 2자리 숫자로 표현하고, 검증손실값을 소수 아래 둘째 자리까지 표시 합니다.\n",
        "save_file_name='save_models/model_{epoch:02d}-{val_loss:.2f}.h5'\n",
        "\n",
        "checkpoint =ModelCheckpoint(save_file_name,\n",
        "                            monitor='val_loss',  # 모니터링할 지표 설정\n",
        "                            verbose= 1,  # 로그 메시지 출력 여부 결정\n",
        "                            save_best_only=True, # 검증 손실값이 감소한 경우에만 모델을 저장할지 결정\n",
        "                            mode = 'auto') # 모델 저정조건 지정,mode='min' 지정하면 검증 손실값이 최소되는 경우에 모델 저장\n",
        "earlystopping = EarlyStopping(monitor='val_loss', patience=5)\n",
        "\n",
        "hist = model.fit(train_generator, validation_data = validation_generator,\n",
        "                 epochs=50, \n",
        "                 batch_size= 16, # 시스템 메모리 사이즈로 설정\n",
        "                 callbacks=[checkpoint, earlystopping])"
      ],
      "metadata": {
        "colab": {
          "base_uri": "https://localhost:8080/"
        },
        "id": "uSSgJmAFdN3D",
        "outputId": "486c27c9-ed36-4e27-ac38-ed4ebafba228"
      },
      "execution_count": null,
      "outputs": [
        {
          "output_type": "stream",
          "name": "stdout",
          "text": [
            "Epoch 1/50\n",
            "84/84 [==============================] - ETA: 0s - loss: 1.1907 - accuracy: 0.5375\n",
            "Epoch 1: val_loss improved from inf to 0.45833, saving model to save_models/model_01-0.46.h5\n",
            "84/84 [==============================] - 49s 281ms/step - loss: 1.1907 - accuracy: 0.5375 - val_loss: 0.4583 - val_accuracy: 0.8232\n",
            "Epoch 2/50\n",
            "84/84 [==============================] - ETA: 0s - loss: 0.5947 - accuracy: 0.7661\n",
            "Epoch 2: val_loss improved from 0.45833 to 0.24267, saving model to save_models/model_02-0.24.h5\n",
            "84/84 [==============================] - 20s 233ms/step - loss: 0.5947 - accuracy: 0.7661 - val_loss: 0.2427 - val_accuracy: 0.9343\n",
            "Epoch 3/50\n",
            "84/84 [==============================] - ETA: 0s - loss: 0.4316 - accuracy: 0.8501\n",
            "Epoch 3: val_loss improved from 0.24267 to 0.13667, saving model to save_models/model_03-0.14.h5\n",
            "84/84 [==============================] - 19s 223ms/step - loss: 0.4316 - accuracy: 0.8501 - val_loss: 0.1367 - val_accuracy: 0.9596\n",
            "Epoch 4/50\n",
            "84/84 [==============================] - ETA: 0s - loss: 0.3076 - accuracy: 0.8861\n",
            "Epoch 4: val_loss improved from 0.13667 to 0.11057, saving model to save_models/model_04-0.11.h5\n",
            "84/84 [==============================] - 20s 235ms/step - loss: 0.3076 - accuracy: 0.8861 - val_loss: 0.1106 - val_accuracy: 0.9646\n",
            "Epoch 5/50\n",
            "84/84 [==============================] - ETA: 0s - loss: 0.2437 - accuracy: 0.9123\n",
            "Epoch 5: val_loss improved from 0.11057 to 0.07057, saving model to save_models/model_05-0.07.h5\n",
            "84/84 [==============================] - 18s 216ms/step - loss: 0.2437 - accuracy: 0.9123 - val_loss: 0.0706 - val_accuracy: 0.9798\n",
            "Epoch 6/50\n",
            "84/84 [==============================] - ETA: 0s - loss: 0.2398 - accuracy: 0.9085\n",
            "Epoch 6: val_loss improved from 0.07057 to 0.06596, saving model to save_models/model_06-0.07.h5\n",
            "84/84 [==============================] - 18s 219ms/step - loss: 0.2398 - accuracy: 0.9085 - val_loss: 0.0660 - val_accuracy: 0.9747\n",
            "Epoch 7/50\n",
            "84/84 [==============================] - ETA: 0s - loss: 0.2220 - accuracy: 0.9205\n",
            "Epoch 7: val_loss improved from 0.06596 to 0.03796, saving model to save_models/model_07-0.04.h5\n",
            "84/84 [==============================] - 19s 227ms/step - loss: 0.2220 - accuracy: 0.9205 - val_loss: 0.0380 - val_accuracy: 0.9899\n",
            "Epoch 8/50\n",
            "84/84 [==============================] - ETA: 0s - loss: 0.1605 - accuracy: 0.9430\n",
            "Epoch 8: val_loss improved from 0.03796 to 0.02786, saving model to save_models/model_08-0.03.h5\n",
            "84/84 [==============================] - 18s 216ms/step - loss: 0.1605 - accuracy: 0.9430 - val_loss: 0.0279 - val_accuracy: 0.9848\n",
            "Epoch 9/50\n",
            "84/84 [==============================] - ETA: 0s - loss: 0.1383 - accuracy: 0.9550\n",
            "Epoch 9: val_loss improved from 0.02786 to 0.01817, saving model to save_models/model_09-0.02.h5\n",
            "84/84 [==============================] - 20s 233ms/step - loss: 0.1383 - accuracy: 0.9550 - val_loss: 0.0182 - val_accuracy: 0.9949\n",
            "Epoch 10/50\n",
            "84/84 [==============================] - ETA: 0s - loss: 0.1288 - accuracy: 0.9505\n",
            "Epoch 10: val_loss improved from 0.01817 to 0.01295, saving model to save_models/model_10-0.01.h5\n",
            "84/84 [==============================] - 19s 221ms/step - loss: 0.1288 - accuracy: 0.9505 - val_loss: 0.0129 - val_accuracy: 0.9949\n",
            "Epoch 11/50\n",
            "84/84 [==============================] - ETA: 0s - loss: 0.1060 - accuracy: 0.9543\n",
            "Epoch 11: val_loss did not improve from 0.01295\n",
            "84/84 [==============================] - 18s 217ms/step - loss: 0.1060 - accuracy: 0.9543 - val_loss: 0.0142 - val_accuracy: 0.9949\n",
            "Epoch 12/50\n",
            "84/84 [==============================] - ETA: 0s - loss: 0.1005 - accuracy: 0.9663\n",
            "Epoch 12: val_loss improved from 0.01295 to 0.00532, saving model to save_models/model_12-0.01.h5\n",
            "84/84 [==============================] - 18s 218ms/step - loss: 0.1005 - accuracy: 0.9663 - val_loss: 0.0053 - val_accuracy: 1.0000\n",
            "Epoch 13/50\n",
            "84/84 [==============================] - ETA: 0s - loss: 0.0958 - accuracy: 0.9655\n",
            "Epoch 13: val_loss improved from 0.00532 to 0.00434, saving model to save_models/model_13-0.00.h5\n",
            "84/84 [==============================] - 18s 220ms/step - loss: 0.0958 - accuracy: 0.9655 - val_loss: 0.0043 - val_accuracy: 1.0000\n",
            "Epoch 14/50\n",
            "84/84 [==============================] - ETA: 0s - loss: 0.0913 - accuracy: 0.9685\n",
            "Epoch 14: val_loss improved from 0.00434 to 0.00391, saving model to save_models/model_14-0.00.h5\n",
            "84/84 [==============================] - 20s 235ms/step - loss: 0.0913 - accuracy: 0.9685 - val_loss: 0.0039 - val_accuracy: 1.0000\n",
            "Epoch 15/50\n",
            "84/84 [==============================] - ETA: 0s - loss: 0.0927 - accuracy: 0.9738\n",
            "Epoch 15: val_loss improved from 0.00391 to 0.00333, saving model to save_models/model_15-0.00.h5\n",
            "84/84 [==============================] - 18s 217ms/step - loss: 0.0927 - accuracy: 0.9738 - val_loss: 0.0033 - val_accuracy: 1.0000\n",
            "Epoch 16/50\n",
            "84/84 [==============================] - ETA: 0s - loss: 0.0799 - accuracy: 0.9715\n",
            "Epoch 16: val_loss improved from 0.00333 to 0.00198, saving model to save_models/model_16-0.00.h5\n",
            "84/84 [==============================] - 20s 234ms/step - loss: 0.0799 - accuracy: 0.9715 - val_loss: 0.0020 - val_accuracy: 1.0000\n",
            "Epoch 17/50\n",
            "84/84 [==============================] - ETA: 0s - loss: 0.0896 - accuracy: 0.9678\n",
            "Epoch 17: val_loss did not improve from 0.00198\n",
            "84/84 [==============================] - 18s 214ms/step - loss: 0.0896 - accuracy: 0.9678 - val_loss: 0.0025 - val_accuracy: 1.0000\n",
            "Epoch 18/50\n",
            "84/84 [==============================] - ETA: 0s - loss: 0.0657 - accuracy: 0.9745\n",
            "Epoch 18: val_loss improved from 0.00198 to 0.00181, saving model to save_models/model_18-0.00.h5\n",
            "84/84 [==============================] - 18s 214ms/step - loss: 0.0657 - accuracy: 0.9745 - val_loss: 0.0018 - val_accuracy: 1.0000\n",
            "Epoch 19/50\n",
            "84/84 [==============================] - ETA: 0s - loss: 0.0638 - accuracy: 0.9738\n",
            "Epoch 19: val_loss improved from 0.00181 to 0.00118, saving model to save_models/model_19-0.00.h5\n",
            "84/84 [==============================] - 20s 240ms/step - loss: 0.0638 - accuracy: 0.9738 - val_loss: 0.0012 - val_accuracy: 1.0000\n",
            "Epoch 20/50\n",
            "84/84 [==============================] - ETA: 0s - loss: 0.0398 - accuracy: 0.9828\n",
            "Epoch 20: val_loss improved from 0.00118 to 0.00051, saving model to save_models/model_20-0.00.h5\n",
            "84/84 [==============================] - 18s 218ms/step - loss: 0.0398 - accuracy: 0.9828 - val_loss: 5.1269e-04 - val_accuracy: 1.0000\n",
            "Epoch 21/50\n",
            "84/84 [==============================] - ETA: 0s - loss: 0.0605 - accuracy: 0.9768\n",
            "Epoch 21: val_loss did not improve from 0.00051\n",
            "84/84 [==============================] - 19s 229ms/step - loss: 0.0605 - accuracy: 0.9768 - val_loss: 7.7661e-04 - val_accuracy: 1.0000\n",
            "Epoch 22/50\n",
            "84/84 [==============================] - ETA: 0s - loss: 0.0599 - accuracy: 0.9775\n",
            "Epoch 22: val_loss did not improve from 0.00051\n",
            "84/84 [==============================] - 18s 214ms/step - loss: 0.0599 - accuracy: 0.9775 - val_loss: 0.0014 - val_accuracy: 1.0000\n",
            "Epoch 23/50\n",
            "84/84 [==============================] - ETA: 0s - loss: 0.0474 - accuracy: 0.9843\n",
            "Epoch 23: val_loss improved from 0.00051 to 0.00042, saving model to save_models/model_23-0.00.h5\n",
            "84/84 [==============================] - 18s 217ms/step - loss: 0.0474 - accuracy: 0.9843 - val_loss: 4.2085e-04 - val_accuracy: 1.0000\n",
            "Epoch 24/50\n",
            "84/84 [==============================] - ETA: 0s - loss: 0.0373 - accuracy: 0.9850\n",
            "Epoch 24: val_loss improved from 0.00042 to 0.00027, saving model to save_models/model_24-0.00.h5\n",
            "84/84 [==============================] - 19s 230ms/step - loss: 0.0373 - accuracy: 0.9850 - val_loss: 2.6828e-04 - val_accuracy: 1.0000\n",
            "Epoch 25/50\n",
            "84/84 [==============================] - ETA: 0s - loss: 0.0397 - accuracy: 0.9873\n",
            "Epoch 25: val_loss improved from 0.00027 to 0.00026, saving model to save_models/model_25-0.00.h5\n",
            "84/84 [==============================] - 18s 218ms/step - loss: 0.0397 - accuracy: 0.9873 - val_loss: 2.5954e-04 - val_accuracy: 1.0000\n",
            "Epoch 26/50\n",
            "84/84 [==============================] - ETA: 0s - loss: 0.0436 - accuracy: 0.9835\n",
            "Epoch 26: val_loss improved from 0.00026 to 0.00020, saving model to save_models/model_26-0.00.h5\n",
            "84/84 [==============================] - 20s 236ms/step - loss: 0.0436 - accuracy: 0.9835 - val_loss: 1.9839e-04 - val_accuracy: 1.0000\n",
            "Epoch 27/50\n",
            "84/84 [==============================] - ETA: 0s - loss: 0.0387 - accuracy: 0.9880\n",
            "Epoch 27: val_loss did not improve from 0.00020\n",
            "84/84 [==============================] - 18s 214ms/step - loss: 0.0387 - accuracy: 0.9880 - val_loss: 3.6902e-04 - val_accuracy: 1.0000\n",
            "Epoch 28/50\n",
            "84/84 [==============================] - ETA: 0s - loss: 0.0462 - accuracy: 0.9850\n",
            "Epoch 28: val_loss did not improve from 0.00020\n",
            "84/84 [==============================] - 18s 214ms/step - loss: 0.0462 - accuracy: 0.9850 - val_loss: 2.5506e-04 - val_accuracy: 1.0000\n",
            "Epoch 29/50\n",
            "84/84 [==============================] - ETA: 0s - loss: 0.0531 - accuracy: 0.9828\n",
            "Epoch 29: val_loss did not improve from 0.00020\n",
            "84/84 [==============================] - 19s 231ms/step - loss: 0.0531 - accuracy: 0.9828 - val_loss: 3.7714e-04 - val_accuracy: 1.0000\n",
            "Epoch 30/50\n",
            "84/84 [==============================] - ETA: 0s - loss: 0.0258 - accuracy: 0.9910\n",
            "Epoch 30: val_loss did not improve from 0.00020\n",
            "84/84 [==============================] - 18s 212ms/step - loss: 0.0258 - accuracy: 0.9910 - val_loss: 3.3365e-04 - val_accuracy: 1.0000\n",
            "Epoch 31/50\n",
            "84/84 [==============================] - ETA: 0s - loss: 0.0223 - accuracy: 0.9933\n",
            "Epoch 31: val_loss improved from 0.00020 to 0.00016, saving model to save_models/model_31-0.00.h5\n",
            "84/84 [==============================] - 18s 216ms/step - loss: 0.0223 - accuracy: 0.9933 - val_loss: 1.6210e-04 - val_accuracy: 1.0000\n",
            "Epoch 32/50\n",
            "84/84 [==============================] - ETA: 0s - loss: 0.0364 - accuracy: 0.9880\n",
            "Epoch 32: val_loss did not improve from 0.00016\n",
            "84/84 [==============================] - 20s 234ms/step - loss: 0.0364 - accuracy: 0.9880 - val_loss: 2.3187e-04 - val_accuracy: 1.0000\n",
            "Epoch 33/50\n",
            "84/84 [==============================] - ETA: 0s - loss: 0.0217 - accuracy: 0.9925\n",
            "Epoch 33: val_loss did not improve from 0.00016\n",
            "84/84 [==============================] - 18s 213ms/step - loss: 0.0217 - accuracy: 0.9925 - val_loss: 1.7939e-04 - val_accuracy: 1.0000\n",
            "Epoch 34/50\n",
            "84/84 [==============================] - ETA: 0s - loss: 0.0279 - accuracy: 0.9910\n",
            "Epoch 34: val_loss did not improve from 0.00016\n",
            "84/84 [==============================] - 19s 230ms/step - loss: 0.0279 - accuracy: 0.9910 - val_loss: 1.7842e-04 - val_accuracy: 1.0000\n",
            "Epoch 35/50\n",
            "84/84 [==============================] - ETA: 0s - loss: 0.0351 - accuracy: 0.9880\n",
            "Epoch 35: val_loss improved from 0.00016 to 0.00013, saving model to save_models/model_35-0.00.h5\n",
            "84/84 [==============================] - 18s 219ms/step - loss: 0.0351 - accuracy: 0.9880 - val_loss: 1.2788e-04 - val_accuracy: 1.0000\n",
            "Epoch 36/50\n",
            "84/84 [==============================] - ETA: 0s - loss: 0.0233 - accuracy: 0.9903\n",
            "Epoch 36: val_loss improved from 0.00013 to 0.00007, saving model to save_models/model_36-0.00.h5\n",
            "84/84 [==============================] - 18s 217ms/step - loss: 0.0233 - accuracy: 0.9903 - val_loss: 6.5118e-05 - val_accuracy: 1.0000\n",
            "Epoch 37/50\n",
            "84/84 [==============================] - ETA: 0s - loss: 0.0250 - accuracy: 0.9925\n",
            "Epoch 37: val_loss did not improve from 0.00007\n",
            "84/84 [==============================] - 18s 213ms/step - loss: 0.0250 - accuracy: 0.9925 - val_loss: 1.0674e-04 - val_accuracy: 1.0000\n",
            "Epoch 38/50\n",
            "84/84 [==============================] - ETA: 0s - loss: 0.0222 - accuracy: 0.9895\n",
            "Epoch 38: val_loss improved from 0.00007 to 0.00005, saving model to save_models/model_38-0.00.h5\n",
            "84/84 [==============================] - 18s 216ms/step - loss: 0.0222 - accuracy: 0.9895 - val_loss: 5.3955e-05 - val_accuracy: 1.0000\n",
            "Epoch 39/50\n",
            "84/84 [==============================] - ETA: 0s - loss: 0.0323 - accuracy: 0.9910\n",
            "Epoch 39: val_loss did not improve from 0.00005\n",
            "84/84 [==============================] - 19s 232ms/step - loss: 0.0323 - accuracy: 0.9910 - val_loss: 6.4375e-05 - val_accuracy: 1.0000\n",
            "Epoch 40/50\n",
            "84/84 [==============================] - ETA: 0s - loss: 0.0350 - accuracy: 0.9895\n",
            "Epoch 40: val_loss did not improve from 0.00005\n",
            "84/84 [==============================] - 18s 212ms/step - loss: 0.0350 - accuracy: 0.9895 - val_loss: 9.2224e-05 - val_accuracy: 1.0000\n",
            "Epoch 41/50\n",
            "84/84 [==============================] - ETA: 0s - loss: 0.0237 - accuracy: 0.9933\n",
            "Epoch 41: val_loss did not improve from 0.00005\n",
            "84/84 [==============================] - 18s 215ms/step - loss: 0.0237 - accuracy: 0.9933 - val_loss: 6.3468e-05 - val_accuracy: 1.0000\n",
            "Epoch 42/50\n",
            "84/84 [==============================] - ETA: 0s - loss: 0.0320 - accuracy: 0.9888\n",
            "Epoch 42: val_loss did not improve from 0.00005\n",
            "84/84 [==============================] - 19s 231ms/step - loss: 0.0320 - accuracy: 0.9888 - val_loss: 1.4588e-04 - val_accuracy: 1.0000\n",
            "Epoch 43/50\n",
            "84/84 [==============================] - ETA: 0s - loss: 0.0403 - accuracy: 0.9858\n",
            "Epoch 43: val_loss did not improve from 0.00005\n",
            "84/84 [==============================] - 18s 215ms/step - loss: 0.0403 - accuracy: 0.9858 - val_loss: 4.2574e-04 - val_accuracy: 1.0000\n"
          ]
        }
      ]
    },
    {
      "cell_type": "code",
      "source": [
        "# save model\n",
        "# model.save('customer_image_classification.model')"
      ],
      "metadata": {
        "id": "iI56_eqsyTsI"
      },
      "execution_count": null,
      "outputs": []
    },
    {
      "cell_type": "code",
      "source": [
        "import matplotlib.pyplot as plt\n",
        "\n",
        "# Accuracy Trend와 Loss Trend 그래프 \n",
        "fig, ax = plt.subplots(1, 2, figsize=(10, 7))\n",
        "\n",
        "# loss\n",
        "ax[0].set_title('model loss')\n",
        "ax[0].plot(hist.history['loss'], 'b')\n",
        "ax[0].plot(hist.history['val_loss'], 'r')\n",
        "ax[0].legend(['train', 'test'], loc='upper right')\n",
        "ax[0].set_ylabel('loss')\n",
        "ax[0].set_xlabel('epoch')\n",
        "\n",
        "# accuracy \n",
        "ax[1].set_title('model accuracy')\n",
        "ax[1].plot(hist.history['accuracy'], 'b')\n",
        "ax[1].plot(hist.history['val_accuracy'], 'r')\n",
        "ax[1].legend(['train', 'test'], loc='lower right')\n",
        "ax[1].set_ylabel('accuracy')\n",
        "ax[1].set_xlabel('epoch')"
      ],
      "metadata": {
        "colab": {
          "base_uri": "https://localhost:8080/",
          "height": 642
        },
        "id": "TBp1IHcddruS",
        "outputId": "b92753c4-c91a-4123-b4e8-1192a5e2fe7c"
      },
      "execution_count": null,
      "outputs": [
        {
          "output_type": "execute_result",
          "data": {
            "text/plain": [
              "Text(0.5, 0, 'epoch')"
            ]
          },
          "metadata": {},
          "execution_count": 20
        },
        {
          "output_type": "display_data",
          "data": {
            "text/plain": [
              "<Figure size 1000x700 with 2 Axes>"
            ],
            "image/png": "[encoded data removed]"
          },
          "metadata": {}
        }
      ]
    },
    {
      "cell_type": "code",
      "source": [
        "#### test data로 evaluate\n",
        "test_datagen = ImageDataGenerator(rescale=1./255)\n",
        "\n",
        "test_generator = test_datagen.flow_from_directory(test_dir, batch_size=32, color_mode='rgb',\n",
        "                                                  class_mode='sparse', target_size=(IMG_WIDTH, IMG_HEIGHT))\n"
      ],
      "metadata": {
        "id": "irhT3bSzeKGT"
      },
      "execution_count": null,
      "outputs": []
    },
    {
      "cell_type": "code",
      "source": [
        "model.evaluate(test_generator)"
      ],
      "metadata": {
        "id": "OyavTPf_eypU"
      },
      "execution_count": null,
      "outputs": []
    },
    {
      "cell_type": "code",
      "source": [],
      "metadata": {
        "id": "sOC5DikXe4He"
      },
      "execution_count": null,
      "outputs": []
    }
  ]
}