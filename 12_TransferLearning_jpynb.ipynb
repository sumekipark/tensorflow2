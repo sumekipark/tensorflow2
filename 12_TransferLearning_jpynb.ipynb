{
  "nbformat": 4,
  "nbformat_minor": 0,
  "metadata": {
    "colab": {
      "provenance": [],
      "authorship_tag": "ABX9TyO/8+owQLNfH1pWgbPS+Pno",
      "include_colab_link": true
    },
    "kernelspec": {
      "name": "python3",
      "display_name": "Python 3"
    },
    "language_info": {
      "name": "python"
    }
  },
  "cells": [
    {
      "cell_type": "markdown",
      "metadata": {
        "id": "view-in-github",
        "colab_type": "text"
      },
      "source": [
        "<a href=\"https://colab.research.google.com/github/sumekipark/tensorflow2/blob/main/12_TransferLearning_jpynb.ipynb\" target=\"_parent\"><img src=\"https://colab.research.google.com/assets/colab-badge.svg\" alt=\"Open In Colab\"/></a>"
      ]
    },
    {
      "cell_type": "code",
      "execution_count": null,
      "metadata": {
        "id": "3kYNU8ylQceL"
      },
      "outputs": [],
      "source": [
        "#train->test 디렉토리로 ratio 만큼 move\n",
        "import os\n",
        "import glob\n",
        "import shutil\n",
        "\n",
        "ration = 0.1 # train :test = 90:10\n",
        "\n",
        "src_root_dir = os.path. join(root_dir,'dog_image/train/')\n",
        "dst_root_dir = os.path join(root_dir.'dog_image')"
      ]
    },
    {
      "cell_type": "code",
      "source": [],
      "metadata": {
        "id": "DpnTeweE8zWy"
      },
      "execution_count": null,
      "outputs": []
    },
    {
      "cell_type": "code",
      "source": [],
      "metadata": {
        "id": "qI9EUyjv81Kw"
      },
      "execution_count": null,
      "outputs": []
    },
    {
      "cell_type": "code",
      "source": [
        "#train : test 데이터 비율 확인\n",
        "src_roof_dir = os.path.join(root_dir,'dog_image/train/')\n",
        "dst_root_dr = os. path. join(root_dir.'dog_image/test/')\n",
        "\n",
        "train_label_name_list = os. listdir()\n"
      ],
      "metadata": {
        "id": "MliiW6EwWAj4"
      },
      "execution_count": null,
      "outputs": []
    },
    {
      "cell_type": "code",
      "source": [
        "#test-> test_image_file 디렉토리로 copy\n",
        "import os\n",
        "import glob\n",
        "import shutil\n",
        "\n",
        "src_root_dir =os.path.join(root_dir,'dog_image/test/')\n",
        "dst_root_dir = os.path.join(root_dir,'dog_image/test_image_file')\n"
      ],
      "metadata": {
        "id": "YNAEcEWIYlqk"
      },
      "execution_count": null,
      "outputs": []
    },
    {
      "cell_type": "code",
      "source": [
        "#imageDataGeneerator 설정\n",
        "IMG_WITH\n"
      ],
      "metadata": {
        "id": "q2uwMFNmbuf4"
      },
      "execution_count": null,
      "outputs": []
    },
    {
      "cell_type": "code",
      "source": [
        "from typing import Sequence\n",
        "model = Sequenceile()\n",
        "model"
      ],
      "metadata": {
        "id": "GFCMGyDXc2tX"
      },
      "execution_count": null,
      "outputs": []
    },
    {
      "cell_type": "code",
      "source": [
        "model. evaluate"
      ],
      "metadata": {
        "id": "1hK4NLE-e5Z4"
      },
      "execution_count": null,
      "outputs": []
    },
    {
      "cell_type": "code",
      "source": [
        "from keras.caiibacks import EarlyStooping\n",
        "earlystooping = EarlyStooping(monitor='val_lass')"
      ],
      "metadata": {
        "id": "QHuegZhDw25z"
      },
      "execution_count": null,
      "outputs": []
    },
    {
      "cell_type": "code",
      "source": [
        "#save.model\n",
        "model.save('customer_image_ciassification.model')\n"
      ],
      "metadata": {
        "id": "9_6mDh8vygJX"
      },
      "execution_count": null,
      "outputs": []
    },
    {
      "cell_type": "code",
      "source": [
        "import matplotlb.pyplot as plt\n",
        "\n",
        "#Accuracy Trend loss Trend 그래프 복붙하기\n",
        "fig. ax = pit.subplots(1,2,figsize= (10,7))\n",
        "\n",
        "# loss\n",
        "ax[0].set_title('model loss')\n",
        "ax[0].piot(hist.history['loss'],'b')\n",
        "ax[0].plot(hist.history['val_loss].'r')\n",
        "ax[0].legend('train'.'test').loc=upper right)\n",
        "ax[0].set_ylabel('loss')\n",
        "ax[0].set_xlabel(ecoch)\n",
        " "
      ],
      "metadata": {
        "id": "sUzsjDDDzQcl"
      },
      "execution_count": null,
      "outputs": []
    },
    {
      "cell_type": "code",
      "source": [
        "import random\n",
        "import os\n",
        "import numpy as np\n",
        "import cv2\n",
        "import glob\n",
        "\n",
        "label_dict = (chhuaha;0, 'jindo_dog':1 shecherd:2,'york')\n",
        "\n",
        "test_image_file_list =glob.glob(root_dir*'/dog_image/test_files/*jpg')\n",
        "\n",
        "random.shuftle(test_image_file_list)\n",
        "\n",
        "test_num =16\n",
        "test_image_file"
      ],
      "metadata": {
        "id": "MaRTMUkiGf2T"
      },
      "execution_count": null,
      "outputs": []
    },
    {
      "cell_type": "code",
      "source": [
        "pred = model.predict(src_img_array)\n",
        "print(predshunce)"
      ],
      "metadata": {
        "id": "yrM3SQpcJew7"
      },
      "execution_count": null,
      "outputs": []
    },
    {
      "cell_type": "code",
      "source": [
        "import matplotlid.pyplot as pit\n",
        " class_names=[chlhahua  ]\n",
        "\n",
        " pit.flgure"
      ],
      "metadata": {
        "id": "i45dIpdGJ947"
      },
      "execution_count": null,
      "outputs": []
    }
  ]
}