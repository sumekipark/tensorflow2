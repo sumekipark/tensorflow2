{
  "nbformat": 4,
  "nbformat_minor": 0,
  "metadata": {
    "colab": {
      "provenance": [],
      "authorship_tag": "ABX9TyO+qSvXQWYm107hZnzEVATE",
      "include_colab_link": true
    },
    "kernelspec": {
      "name": "python3",
      "display_name": "Python 3"
    },
    "language_info": {
      "name": "python"
    }
  },
  "cells": [
    {
      "cell_type": "markdown",
      "metadata": {
        "id": "view-in-github",
        "colab_type": "text"
      },
      "source": [
        "<a href=\"https://colab.research.google.com/github/sumekipark/tensorflow2/blob/main/11_Callback_Function_jpynb.ipynb\" target=\"_parent\"><img src=\"https://colab.research.google.com/assets/colab-badge.svg\" alt=\"Open In Colab\"/></a>"
      ]
    },
    {
      "cell_type": "code",
      "execution_count": null,
      "metadata": {
        "id": "-XcEop-uyoa2"
      },
      "outputs": [],
      "source": [
        "#2.데이터 전처리: 정규화, 원핫인코딩\n",
        "#x_train"
      ]
    },
    {
      "cell_type": "code",
      "source": [],
      "metadata": {
        "id": "gJz-34a0QYh8"
      },
      "execution_count": null,
      "outputs": []
    },
    {
      "cell_type": "code",
      "source": [
        "#3.모델 구축: 모델 생성> 모델에 레이어 추가\n",
        "model = Sequential()\n",
        "#입력층에서는 28*28=784,2차원을 1차원 vecter 변환\n",
        "model.add(Flatten(inpot))\n"
      ],
      "metadata": {
        "id": "1I4bIAHxz6un"
      },
      "execution_count": null,
      "outputs": []
    },
    {
      "cell_type": "code",
      "source": [
        "#Callback Function\n",
        "from keras callbacks import Model Checkpoint, Earlystooping, ReduceLROnpPlateau\n",
        "file _path =',/model Checkpoint_test.h5'\n",
        "Checkpoint = modelCheckpoint(file_path.manitor ='val_loss'.save_best_only=true.mode='auto')#val_loss값이 개선되었을때 가장 best인 모델 가중치값 저장"
      ],
      "metadata": {
        "id": "Wq1Kada42kfJ"
      },
      "execution_count": null,
      "outputs": []
    },
    {
      "cell_type": "code",
      "source": [
        "#6.test data 1 이용하여 정확도 검증\n",
        "model.evaluat\n",
        "\n"
      ],
      "metadata": {
        "id": "fOZVJ6uC8rlu"
      },
      "execution_count": null,
      "outputs": []
    },
    {
      "cell_type": "code",
      "source": [
        "#7."
      ],
      "metadata": {
        "id": "3TTvnUBq-iSV"
      },
      "execution_count": null,
      "outputs": []
    }
  ]
}